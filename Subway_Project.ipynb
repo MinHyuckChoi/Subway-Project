{
 "cells": [
  {
   "cell_type": "code",
   "execution_count": 18,
   "metadata": {},
   "outputs": [],
   "source": [
    "import pandas as pd\n",
    "import numpy as np\n",
    "import matplotlib as mpl\n",
    "import matplotlib.pyplot as plt\n",
    "import seaborn as sns\n",
    "from scipy import stats\n",
    "import csv   \n",
    "\n",
    "#노트북 안에서 그래프 그리기 위해\n",
    "%matplotlib inline\n",
    "\n",
    "# 그래프에서 격자로 숫자 범위가 눈에 잘 띄도록 ggplot 스타일을 사용\n",
    "plt.style.use('ggplot')\n",
    "\n",
    "# 그래프에서 마이너스 폰트 깨지는 문제에 대한 대처\n",
    "mpl.rcParams['axes.unicode_minus'] = False"
   ]
  },
  {
   "cell_type": "code",
   "execution_count": 19,
   "metadata": {},
   "outputs": [],
   "source": [
    "#결측 데이터인 201701,201702는 결측치 처리를 위해 2018 동월 데이터로 대체\n",
    "\n",
    "subway201701 = pd.read_csv('subway_201701.csv', encoding='EUC-KR')\n",
    "subway201702 = pd.read_csv('subway_201702.csv', encoding='EUC-KR')\n",
    "subway201703 = pd.read_csv('subway_201703.csv', encoding='EUC-KR')\n",
    "subway201704 = pd.read_csv('subway_201704.csv', encoding='EUC-KR')\n",
    "subway201705 = pd.read_csv('subway_201705.csv', encoding='EUC-KR')\n",
    "subway201706 = pd.read_csv('subway_201706.csv', encoding='EUC-KR')\n",
    "subway201707 = pd.read_csv('subway_201707.csv', encoding='EUC-KR')\n",
    "subway201708 = pd.read_csv('subway_201708.csv', encoding='EUC-KR')\n",
    "subway201709 = pd.read_csv('subway_201709.csv', encoding='EUC-KR')\n",
    "subway201710 = pd.read_csv('subway_201710.csv', encoding='EUC-KR')\n",
    "subway201711 = pd.read_csv('subway_201711.csv', encoding='EUC-KR')\n",
    "subway201712 = pd.read_csv('subway_201712.csv', encoding='EUC-KR')\n",
    "subway201801 = pd.read_csv('subway_201801.csv', encoding='EUC-KR')\n",
    "subway201802 = pd.read_csv('subway_201802.csv', encoding='EUC-KR')\n",
    "subway201803 = pd.read_csv('subway_201803.csv', encoding='EUC-KR')\n",
    "subway201804 = pd.read_csv('subway_201804.csv', encoding='EUC-KR')\n",
    "subway201805 = pd.read_csv('subway_201805.csv', encoding='EUC-KR')\n",
    "subway201806 = pd.read_csv('subway_201806.csv', encoding='EUC-KR')\n",
    "subway201807 = pd.read_csv('subway_201807.csv', encoding='EUC-KR')\n",
    "subway201808 = pd.read_csv('subway_201808.csv', encoding='EUC-KR')\n",
    "subway201809 = pd.read_csv('subway_201809.csv', encoding='EUC-KR')\n",
    "subway201810 = pd.read_csv('subway_201810.csv', encoding='EUC-KR')\n",
    "subway201811 = pd.read_csv('subway_201811.csv', encoding='EUC-KR')\n",
    "subway201812 = pd.read_csv('subway_201812.csv', encoding='EUC-KR')\n",
    "\n"
   ]
  },
  {
   "cell_type": "code",
   "execution_count": 20,
   "metadata": {
    "scrolled": true
   },
   "outputs": [
    {
     "data": {
      "text/plain": [
       "Date            datetime64[ns]\n",
       "Line                    object\n",
       "Station_ID               int64\n",
       "Station_Name            object\n",
       "Entries_N                int64\n",
       "Exits_N                  int64\n",
       "Update_Date              int64\n",
       "dtype: object"
      ]
     },
     "execution_count": 20,
     "metadata": {},
     "output_type": "execute_result"
    }
   ],
   "source": [
    "#Data merge and correct data type\n",
    "\n",
    "frames = [subway201701,subway201702,subway201703,subway201704,subway201705,subway201706,subway201707,subway201708,subway201709,subway201710,subway201711,subway201712,subway201801,subway201802,subway201803,subway201804,subway201805,subway201806,subway201807,subway201808,subway201809,subway201810,subway201811,subway201812]\n",
    "\n",
    "total_subway = pd.concat(frames)\n",
    "total_subway.columns = ['Date','Line','Station_ID','Station_Name','Entries_N','Exits_N','Update_Date']\n",
    "\n",
    "#total_subway['Entries_N'] = total_subway['Entries_N'].astype(int)\n",
    "#total_subway['Update_Date'] = total_subway['Update_Date'].astype(object)\n",
    "total_subway['Date'] = pd.to_datetime(total_subway['Date'], format ='%Y%m%d')\n",
    "\n",
    "\n",
    "total_subway.dtypes"
   ]
  },
  {
   "cell_type": "code",
   "execution_count": 21,
   "metadata": {},
   "outputs": [],
   "source": [
    "#Check if it is merged well\n",
    "total_row_number = len(subway201703) + len(subway201704) + len(subway201705) + len(subway201706) + len(subway201707) + len(subway201708) + len(subway201709) + len(subway201710) + len(subway201711) + len(subway201712) + len(subway201801) + len(subway201802) + len(subway201803) + len(subway201804) + len(subway201805) + len(subway201806) + len(subway201807) + len(subway201808) + len(subway201809) + len(subway201810) + len(subway201811) + len(subway201812)"
   ]
  },
  {
   "cell_type": "code",
   "execution_count": null,
   "metadata": {},
   "outputs": [],
   "source": [
    "\n"
   ]
  },
  {
   "cell_type": "code",
   "execution_count": 22,
   "metadata": {},
   "outputs": [
    {
     "data": {
      "text/plain": [
       "387063"
      ]
     },
     "execution_count": 22,
     "metadata": {},
     "output_type": "execute_result"
    }
   ],
   "source": [
    "total_row_number"
   ]
  },
  {
   "cell_type": "code",
   "execution_count": 23,
   "metadata": {},
   "outputs": [
    {
     "name": "stdout",
     "output_type": "stream",
     "text": [
      "<class 'pandas.core.frame.DataFrame'>\n",
      "Int64Index: 421353 entries, 0 to 17728\n",
      "Data columns (total 7 columns):\n",
      "Date            421353 non-null datetime64[ns]\n",
      "Line            421353 non-null object\n",
      "Station_ID      421353 non-null int64\n",
      "Station_Name    421353 non-null object\n",
      "Entries_N       421353 non-null int64\n",
      "Exits_N         421353 non-null int64\n",
      "Update_Date     421353 non-null int64\n",
      "dtypes: datetime64[ns](1), int64(4), object(2)\n",
      "memory usage: 25.7+ MB\n"
     ]
    }
   ],
   "source": [
    "#total_subway.columns\n",
    "#total_subway.head()\n",
    "total_subway.info()"
   ]
  },
  {
   "cell_type": "code",
   "execution_count": 24,
   "metadata": {},
   "outputs": [
    {
     "data": {
      "text/plain": [
       "Date            0\n",
       "Line            0\n",
       "Station_ID      0\n",
       "Station_Name    0\n",
       "Entries_N       0\n",
       "Exits_N         0\n",
       "Update_Date     0\n",
       "dtype: int64"
      ]
     },
     "execution_count": 24,
     "metadata": {},
     "output_type": "execute_result"
    }
   ],
   "source": [
    "#check null\n",
    "total_subway.isnull().sum()"
   ]
  },
  {
   "cell_type": "code",
   "execution_count": 25,
   "metadata": {},
   "outputs": [],
   "source": [
    "null_columns=total_subway.columns[total_subway.isnull().any()]"
   ]
  },
  {
   "cell_type": "code",
   "execution_count": 26,
   "metadata": {},
   "outputs": [
    {
     "name": "stdout",
     "output_type": "stream",
     "text": [
      "Empty DataFrame\n",
      "Columns: []\n",
      "Index: []\n"
     ]
    }
   ],
   "source": [
    "print(total_subway[total_subway[\"Date\"].isnull()][null_columns])"
   ]
  },
  {
   "cell_type": "code",
   "execution_count": 27,
   "metadata": {},
   "outputs": [
    {
     "data": {
      "text/html": [
       "<div>\n",
       "<style scoped>\n",
       "    .dataframe tbody tr th:only-of-type {\n",
       "        vertical-align: middle;\n",
       "    }\n",
       "\n",
       "    .dataframe tbody tr th {\n",
       "        vertical-align: top;\n",
       "    }\n",
       "\n",
       "    .dataframe thead th {\n",
       "        text-align: right;\n",
       "    }\n",
       "</style>\n",
       "<table border=\"1\" class=\"dataframe\">\n",
       "  <thead>\n",
       "    <tr style=\"text-align: right;\">\n",
       "      <th></th>\n",
       "      <th>Date</th>\n",
       "      <th>Line</th>\n",
       "      <th>Station_ID</th>\n",
       "      <th>Station_Name</th>\n",
       "      <th>Entries_N</th>\n",
       "      <th>Exits_N</th>\n",
       "      <th>Update_Date</th>\n",
       "      <th>year</th>\n",
       "      <th>month</th>\n",
       "      <th>day</th>\n",
       "    </tr>\n",
       "  </thead>\n",
       "  <tbody>\n",
       "    <tr>\n",
       "      <th>0</th>\n",
       "      <td>2017-01-01</td>\n",
       "      <td>경의선</td>\n",
       "      <td>1271</td>\n",
       "      <td>능곡</td>\n",
       "      <td>1958</td>\n",
       "      <td>1864</td>\n",
       "      <td>20170104</td>\n",
       "      <td>2017</td>\n",
       "      <td>1</td>\n",
       "      <td>1</td>\n",
       "    </tr>\n",
       "    <tr>\n",
       "      <th>1</th>\n",
       "      <td>2017-01-01</td>\n",
       "      <td>경의선</td>\n",
       "      <td>1272</td>\n",
       "      <td>곡산</td>\n",
       "      <td>242</td>\n",
       "      <td>213</td>\n",
       "      <td>20170104</td>\n",
       "      <td>2017</td>\n",
       "      <td>1</td>\n",
       "      <td>1</td>\n",
       "    </tr>\n",
       "    <tr>\n",
       "      <th>2</th>\n",
       "      <td>2017-01-01</td>\n",
       "      <td>경의선</td>\n",
       "      <td>1273</td>\n",
       "      <td>백마</td>\n",
       "      <td>2665</td>\n",
       "      <td>2592</td>\n",
       "      <td>20170104</td>\n",
       "      <td>2017</td>\n",
       "      <td>1</td>\n",
       "      <td>1</td>\n",
       "    </tr>\n",
       "    <tr>\n",
       "      <th>3</th>\n",
       "      <td>2017-01-01</td>\n",
       "      <td>경의선</td>\n",
       "      <td>1274</td>\n",
       "      <td>풍산</td>\n",
       "      <td>2356</td>\n",
       "      <td>2314</td>\n",
       "      <td>20170104</td>\n",
       "      <td>2017</td>\n",
       "      <td>1</td>\n",
       "      <td>1</td>\n",
       "    </tr>\n",
       "    <tr>\n",
       "      <th>4</th>\n",
       "      <td>2017-01-01</td>\n",
       "      <td>경의선</td>\n",
       "      <td>1275</td>\n",
       "      <td>일산</td>\n",
       "      <td>4058</td>\n",
       "      <td>4000</td>\n",
       "      <td>20170104</td>\n",
       "      <td>2017</td>\n",
       "      <td>1</td>\n",
       "      <td>1</td>\n",
       "    </tr>\n",
       "  </tbody>\n",
       "</table>\n",
       "</div>"
      ],
      "text/plain": [
       "        Date Line  Station_ID Station_Name  Entries_N  Exits_N  Update_Date  \\\n",
       "0 2017-01-01  경의선        1271           능곡       1958     1864     20170104   \n",
       "1 2017-01-01  경의선        1272           곡산        242      213     20170104   \n",
       "2 2017-01-01  경의선        1273           백마       2665     2592     20170104   \n",
       "3 2017-01-01  경의선        1274           풍산       2356     2314     20170104   \n",
       "4 2017-01-01  경의선        1275           일산       4058     4000     20170104   \n",
       "\n",
       "   year  month  day  \n",
       "0  2017      1    1  \n",
       "1  2017      1    1  \n",
       "2  2017      1    1  \n",
       "3  2017      1    1  \n",
       "4  2017      1    1  "
      ]
     },
     "execution_count": 27,
     "metadata": {},
     "output_type": "execute_result"
    }
   ],
   "source": [
    "total_subway[\"year\"] = total_subway[\"Date\"].dt.year\n",
    "total_subway[\"month\"] = total_subway[\"Date\"].dt.month\n",
    "total_subway[\"day\"] = total_subway[\"Date\"].dt.day\n",
    "\n",
    "total_subway.head()"
   ]
  },
  {
   "cell_type": "code",
   "execution_count": 28,
   "metadata": {},
   "outputs": [
    {
     "name": "stderr",
     "output_type": "stream",
     "text": [
      "C:\\Users\\choimh\\AppData\\Local\\Continuum\\anaconda3\\lib\\site-packages\\scipy\\stats\\stats.py:1713: FutureWarning: Using a non-tuple sequence for multidimensional indexing is deprecated; use `arr[tuple(seq)]` instead of `arr[seq]`. In the future this will be interpreted as an array index, `arr[np.array(seq)]`, which will result either in an error or a different result.\n",
      "  return np.add.reduce(sorted[indexer] * weights, axis=axis) / sumval\n"
     ]
    },
    {
     "data": {
      "text/plain": [
       "[Text(0.5,0,'day'), Text(0.5,1,'Entries per day')]"
      ]
     },
     "execution_count": 28,
     "metadata": {},
     "output_type": "execute_result"
    },
    {
     "data": {
      "image/png": "[encoded data removed]",
      "text/plain": [
       "<Figure size 1296x576 with 3 Axes>"
      ]
     },
     "metadata": {},
     "output_type": "display_data"
    }
   ],
   "source": [
    "figure, ((ax1,ax2,ax3)) = plt.subplots(nrows=1, ncols=3)\n",
    "figure.set_size_inches(18,8)\n",
    "\n",
    "sns.barplot(data=total_subway, x=\"year\", y=\"Entries_N\", ax=ax1)\n",
    "sns.barplot(data=total_subway, x=\"month\", y=\"Entries_N\", ax=ax2)\n",
    "sns.barplot(data=total_subway, x=\"day\", y=\"Entries_N\", ax=ax3)\n",
    "\n",
    "ax1.set(ylabel='Entries_N',title=\"Entries per year\")\n",
    "ax2.set(xlabel='month',title=\"Entries per month\")\n",
    "ax3.set(xlabel='day',title=\"Entries per day\")"
   ]
  },
  {
   "cell_type": "code",
   "execution_count": 29,
   "metadata": {},
   "outputs": [],
   "source": [
    "#미세먼지 데이터 정리하기\n",
    "#엑셀에서 이미 결측치 제거된 상태\n",
    "\n"
   ]
  },
  {
   "cell_type": "code",
   "execution_count": 30,
   "metadata": {},
   "outputs": [
    {
     "data": {
      "text/html": [
       "<div>\n",
       "<style scoped>\n",
       "    .dataframe tbody tr th:only-of-type {\n",
       "        vertical-align: middle;\n",
       "    }\n",
       "\n",
       "    .dataframe tbody tr th {\n",
       "        vertical-align: top;\n",
       "    }\n",
       "\n",
       "    .dataframe thead th {\n",
       "        text-align: right;\n",
       "    }\n",
       "</style>\n",
       "<table border=\"1\" class=\"dataframe\">\n",
       "  <thead>\n",
       "    <tr style=\"text-align: right;\">\n",
       "      <th></th>\n",
       "      <th>Date</th>\n",
       "      <th>ultrafine_dust</th>\n",
       "    </tr>\n",
       "  </thead>\n",
       "  <tbody>\n",
       "    <tr>\n",
       "      <th>0</th>\n",
       "      <td>20170101</td>\n",
       "      <td>58</td>\n",
       "    </tr>\n",
       "    <tr>\n",
       "      <th>1</th>\n",
       "      <td>20170101</td>\n",
       "      <td>58</td>\n",
       "    </tr>\n",
       "    <tr>\n",
       "      <th>2</th>\n",
       "      <td>20170101</td>\n",
       "      <td>54</td>\n",
       "    </tr>\n",
       "    <tr>\n",
       "      <th>3</th>\n",
       "      <td>20170101</td>\n",
       "      <td>65</td>\n",
       "    </tr>\n",
       "    <tr>\n",
       "      <th>4</th>\n",
       "      <td>20170101</td>\n",
       "      <td>54</td>\n",
       "    </tr>\n",
       "  </tbody>\n",
       "</table>\n",
       "</div>"
      ],
      "text/plain": [
       "       Date  ultrafine_dust\n",
       "0  20170101              58\n",
       "1  20170101              58\n",
       "2  20170101              54\n",
       "3  20170101              65\n",
       "4  20170101              54"
      ]
     },
     "execution_count": 30,
     "metadata": {},
     "output_type": "execute_result"
    }
   ],
   "source": [
    "fine_dust = pd.read_csv('fine_dust.csv', encoding='EUC-KR')\n",
    "ultrafine_dust = pd.read_csv('ultrafine_dust.csv', encoding='EUC-KR')\n",
    "\n",
    "fine_dust.columns = ['Date','fine_dust']\n",
    "ultrafine_dust.columns = ['Date','ultrafine_dust']\n",
    "\n",
    "ultrafine_dust.head()"
   ]
  },
  {
   "cell_type": "code",
   "execution_count": 31,
   "metadata": {},
   "outputs": [
    {
     "data": {
      "text/plain": [
       "Date              datetime64[ns]\n",
       "ultrafine_dust             int64\n",
       "dtype: object"
      ]
     },
     "execution_count": 31,
     "metadata": {},
     "output_type": "execute_result"
    }
   ],
   "source": [
    "fine_dust['Date'] = pd.to_datetime(fine_dust['Date'], format ='%Y%m%d')\n",
    "ultrafine_dust['Date'] = pd.to_datetime(ultrafine_dust['Date'], format ='%Y%m%d')\n",
    "\n",
    "ultrafine_dust.dtypes"
   ]
  },
  {
   "cell_type": "code",
   "execution_count": 32,
   "metadata": {},
   "outputs": [
    {
     "data": {
      "text/html": [
       "<div>\n",
       "<style scoped>\n",
       "    .dataframe tbody tr th:only-of-type {\n",
       "        vertical-align: middle;\n",
       "    }\n",
       "\n",
       "    .dataframe tbody tr th {\n",
       "        vertical-align: top;\n",
       "    }\n",
       "\n",
       "    .dataframe thead th {\n",
       "        text-align: right;\n",
       "    }\n",
       "</style>\n",
       "<table border=\"1\" class=\"dataframe\">\n",
       "  <thead>\n",
       "    <tr style=\"text-align: right;\">\n",
       "      <th></th>\n",
       "      <th>Date</th>\n",
       "      <th>ultrafine_dust</th>\n",
       "    </tr>\n",
       "  </thead>\n",
       "  <tbody>\n",
       "    <tr>\n",
       "      <th>0</th>\n",
       "      <td>2017-01-01</td>\n",
       "      <td>60.09375</td>\n",
       "    </tr>\n",
       "    <tr>\n",
       "      <th>1</th>\n",
       "      <td>2017-01-02</td>\n",
       "      <td>81.34375</td>\n",
       "    </tr>\n",
       "    <tr>\n",
       "      <th>2</th>\n",
       "      <td>2017-01-03</td>\n",
       "      <td>52.31250</td>\n",
       "    </tr>\n",
       "    <tr>\n",
       "      <th>3</th>\n",
       "      <td>2017-01-04</td>\n",
       "      <td>36.00000</td>\n",
       "    </tr>\n",
       "    <tr>\n",
       "      <th>4</th>\n",
       "      <td>2017-01-05</td>\n",
       "      <td>23.06250</td>\n",
       "    </tr>\n",
       "  </tbody>\n",
       "</table>\n",
       "</div>"
      ],
      "text/plain": [
       "        Date  ultrafine_dust\n",
       "0 2017-01-01        60.09375\n",
       "1 2017-01-02        81.34375\n",
       "2 2017-01-03        52.31250\n",
       "3 2017-01-04        36.00000\n",
       "4 2017-01-05        23.06250"
      ]
     },
     "execution_count": 32,
     "metadata": {},
     "output_type": "execute_result"
    }
   ],
   "source": [
    "fine_dust = fine_dust.groupby(['Date'],as_index=False).mean()\n",
    "ultrafine_dust = ultrafine_dust.groupby(['Date'],as_index=False).mean()\n",
    "\n",
    "ultrafine_dust.head()\n",
    "\n"
   ]
  },
  {
   "cell_type": "code",
   "execution_count": 33,
   "metadata": {},
   "outputs": [
    {
     "data": {
      "text/html": [
       "<div>\n",
       "<style scoped>\n",
       "    .dataframe tbody tr th:only-of-type {\n",
       "        vertical-align: middle;\n",
       "    }\n",
       "\n",
       "    .dataframe tbody tr th {\n",
       "        vertical-align: top;\n",
       "    }\n",
       "\n",
       "    .dataframe thead th {\n",
       "        text-align: right;\n",
       "    }\n",
       "</style>\n",
       "<table border=\"1\" class=\"dataframe\">\n",
       "  <thead>\n",
       "    <tr style=\"text-align: right;\">\n",
       "      <th></th>\n",
       "      <th>Date</th>\n",
       "      <th>Line</th>\n",
       "      <th>Station_ID</th>\n",
       "      <th>Station_Name</th>\n",
       "      <th>Entries_N</th>\n",
       "      <th>Exits_N</th>\n",
       "      <th>Update_Date</th>\n",
       "      <th>year</th>\n",
       "      <th>month</th>\n",
       "      <th>day</th>\n",
       "      <th>fine_dust</th>\n",
       "      <th>ultrafine_dust</th>\n",
       "    </tr>\n",
       "  </thead>\n",
       "  <tbody>\n",
       "    <tr>\n",
       "      <th>0</th>\n",
       "      <td>2017-01-01</td>\n",
       "      <td>경의선</td>\n",
       "      <td>1271</td>\n",
       "      <td>능곡</td>\n",
       "      <td>1958</td>\n",
       "      <td>1864</td>\n",
       "      <td>20170104</td>\n",
       "      <td>2017</td>\n",
       "      <td>1</td>\n",
       "      <td>1</td>\n",
       "      <td>80.410256</td>\n",
       "      <td>60.09375</td>\n",
       "    </tr>\n",
       "    <tr>\n",
       "      <th>1</th>\n",
       "      <td>2017-01-01</td>\n",
       "      <td>경의선</td>\n",
       "      <td>1272</td>\n",
       "      <td>곡산</td>\n",
       "      <td>242</td>\n",
       "      <td>213</td>\n",
       "      <td>20170104</td>\n",
       "      <td>2017</td>\n",
       "      <td>1</td>\n",
       "      <td>1</td>\n",
       "      <td>80.410256</td>\n",
       "      <td>60.09375</td>\n",
       "    </tr>\n",
       "    <tr>\n",
       "      <th>2</th>\n",
       "      <td>2017-01-01</td>\n",
       "      <td>경의선</td>\n",
       "      <td>1273</td>\n",
       "      <td>백마</td>\n",
       "      <td>2665</td>\n",
       "      <td>2592</td>\n",
       "      <td>20170104</td>\n",
       "      <td>2017</td>\n",
       "      <td>1</td>\n",
       "      <td>1</td>\n",
       "      <td>80.410256</td>\n",
       "      <td>60.09375</td>\n",
       "    </tr>\n",
       "    <tr>\n",
       "      <th>3</th>\n",
       "      <td>2017-01-01</td>\n",
       "      <td>경의선</td>\n",
       "      <td>1274</td>\n",
       "      <td>풍산</td>\n",
       "      <td>2356</td>\n",
       "      <td>2314</td>\n",
       "      <td>20170104</td>\n",
       "      <td>2017</td>\n",
       "      <td>1</td>\n",
       "      <td>1</td>\n",
       "      <td>80.410256</td>\n",
       "      <td>60.09375</td>\n",
       "    </tr>\n",
       "    <tr>\n",
       "      <th>4</th>\n",
       "      <td>2017-01-01</td>\n",
       "      <td>경의선</td>\n",
       "      <td>1275</td>\n",
       "      <td>일산</td>\n",
       "      <td>4058</td>\n",
       "      <td>4000</td>\n",
       "      <td>20170104</td>\n",
       "      <td>2017</td>\n",
       "      <td>1</td>\n",
       "      <td>1</td>\n",
       "      <td>80.410256</td>\n",
       "      <td>60.09375</td>\n",
       "    </tr>\n",
       "  </tbody>\n",
       "</table>\n",
       "</div>"
      ],
      "text/plain": [
       "        Date Line  Station_ID Station_Name  Entries_N  Exits_N  Update_Date  \\\n",
       "0 2017-01-01  경의선        1271           능곡       1958     1864     20170104   \n",
       "1 2017-01-01  경의선        1272           곡산        242      213     20170104   \n",
       "2 2017-01-01  경의선        1273           백마       2665     2592     20170104   \n",
       "3 2017-01-01  경의선        1274           풍산       2356     2314     20170104   \n",
       "4 2017-01-01  경의선        1275           일산       4058     4000     20170104   \n",
       "\n",
       "   year  month  day  fine_dust  ultrafine_dust  \n",
       "0  2017      1    1  80.410256        60.09375  \n",
       "1  2017      1    1  80.410256        60.09375  \n",
       "2  2017      1    1  80.410256        60.09375  \n",
       "3  2017      1    1  80.410256        60.09375  \n",
       "4  2017      1    1  80.410256        60.09375  "
      ]
     },
     "execution_count": 33,
     "metadata": {},
     "output_type": "execute_result"
    }
   ],
   "source": [
    "#미세먼지 컬럼 추가하기\n",
    "total_subway_dust = total_subway.join(fine_dust.set_index('Date'), on='Date')\n",
    "total_subway_dust = total_subway_dust.join(ultrafine_dust.set_index('Date'), on='Date')\n",
    "total_subway_dust.dtypes\n",
    "total_subway_dust.head()"
   ]
  },
  {
   "cell_type": "code",
   "execution_count": 34,
   "metadata": {},
   "outputs": [],
   "source": [
    "#날씨 데이터 정리하기\n",
    "#엑셀에서 이미 결측치 제거된 상태"
   ]
  },
  {
   "cell_type": "code",
   "execution_count": 35,
   "metadata": {},
   "outputs": [
    {
     "data": {
      "text/html": [
       "<div>\n",
       "<style scoped>\n",
       "    .dataframe tbody tr th:only-of-type {\n",
       "        vertical-align: middle;\n",
       "    }\n",
       "\n",
       "    .dataframe tbody tr th {\n",
       "        vertical-align: top;\n",
       "    }\n",
       "\n",
       "    .dataframe thead th {\n",
       "        text-align: right;\n",
       "    }\n",
       "</style>\n",
       "<table border=\"1\" class=\"dataframe\">\n",
       "  <thead>\n",
       "    <tr style=\"text-align: right;\">\n",
       "      <th></th>\n",
       "      <th>Date</th>\n",
       "      <th>Temperature</th>\n",
       "      <th>Humidity</th>\n",
       "      <th>Wind</th>\n",
       "      <th>Precipitation</th>\n",
       "    </tr>\n",
       "  </thead>\n",
       "  <tbody>\n",
       "    <tr>\n",
       "      <th>0</th>\n",
       "      <td>20170101</td>\n",
       "      <td>3.2</td>\n",
       "      <td>76.300003</td>\n",
       "      <td>0.1</td>\n",
       "      <td>0.0</td>\n",
       "    </tr>\n",
       "    <tr>\n",
       "      <th>1</th>\n",
       "      <td>20170101</td>\n",
       "      <td>3.6</td>\n",
       "      <td>78.099998</td>\n",
       "      <td>0.5</td>\n",
       "      <td>0.0</td>\n",
       "    </tr>\n",
       "    <tr>\n",
       "      <th>2</th>\n",
       "      <td>20170101</td>\n",
       "      <td>3.7</td>\n",
       "      <td>78.199997</td>\n",
       "      <td>0.7</td>\n",
       "      <td>0.0</td>\n",
       "    </tr>\n",
       "    <tr>\n",
       "      <th>3</th>\n",
       "      <td>20170101</td>\n",
       "      <td>4.6</td>\n",
       "      <td>77.800003</td>\n",
       "      <td>1.2</td>\n",
       "      <td>0.0</td>\n",
       "    </tr>\n",
       "    <tr>\n",
       "      <th>4</th>\n",
       "      <td>20170101</td>\n",
       "      <td>4.4</td>\n",
       "      <td>68.500000</td>\n",
       "      <td>0.3</td>\n",
       "      <td>0.0</td>\n",
       "    </tr>\n",
       "  </tbody>\n",
       "</table>\n",
       "</div>"
      ],
      "text/plain": [
       "       Date  Temperature   Humidity  Wind  Precipitation\n",
       "0  20170101          3.2  76.300003   0.1            0.0\n",
       "1  20170101          3.6  78.099998   0.5            0.0\n",
       "2  20170101          3.7  78.199997   0.7            0.0\n",
       "3  20170101          4.6  77.800003   1.2            0.0\n",
       "4  20170101          4.4  68.500000   0.3            0.0"
      ]
     },
     "execution_count": 35,
     "metadata": {},
     "output_type": "execute_result"
    }
   ],
   "source": [
    "weather = pd.read_csv('weather.csv', encoding='EUC-KR')\n",
    "weather.columns = ['Date','Temperature','Humidity','Wind','Precipitation']\n",
    "\n",
    "weather.head()"
   ]
  },
  {
   "cell_type": "code",
   "execution_count": 36,
   "metadata": {},
   "outputs": [
    {
     "data": {
      "text/plain": [
       "Date             datetime64[ns]\n",
       "Temperature             float64\n",
       "Humidity                float64\n",
       "Wind                    float64\n",
       "Precipitation           float64\n",
       "dtype: object"
      ]
     },
     "execution_count": 36,
     "metadata": {},
     "output_type": "execute_result"
    }
   ],
   "source": [
    "weather['Date'] = pd.to_datetime(weather['Date'], format ='%Y%m%d')\n",
    "\n",
    "weather.dtypes"
   ]
  },
  {
   "cell_type": "code",
   "execution_count": 37,
   "metadata": {},
   "outputs": [
    {
     "data": {
      "text/html": [
       "<div>\n",
       "<style scoped>\n",
       "    .dataframe tbody tr th:only-of-type {\n",
       "        vertical-align: middle;\n",
       "    }\n",
       "\n",
       "    .dataframe tbody tr th {\n",
       "        vertical-align: top;\n",
       "    }\n",
       "\n",
       "    .dataframe thead th {\n",
       "        text-align: right;\n",
       "    }\n",
       "</style>\n",
       "<table border=\"1\" class=\"dataframe\">\n",
       "  <thead>\n",
       "    <tr style=\"text-align: right;\">\n",
       "      <th></th>\n",
       "      <th>Date</th>\n",
       "      <th>Temperature</th>\n",
       "      <th>Humidity</th>\n",
       "      <th>Wind</th>\n",
       "      <th>Precipitation</th>\n",
       "    </tr>\n",
       "  </thead>\n",
       "  <tbody>\n",
       "    <tr>\n",
       "      <th>0</th>\n",
       "      <td>2017-01-01</td>\n",
       "      <td>3.900000</td>\n",
       "      <td>75.926923</td>\n",
       "      <td>0.769231</td>\n",
       "      <td>0.000000</td>\n",
       "    </tr>\n",
       "    <tr>\n",
       "      <th>1</th>\n",
       "      <td>2017-01-02</td>\n",
       "      <td>6.419231</td>\n",
       "      <td>76.288462</td>\n",
       "      <td>1.376923</td>\n",
       "      <td>0.057692</td>\n",
       "    </tr>\n",
       "    <tr>\n",
       "      <th>2</th>\n",
       "      <td>2017-01-03</td>\n",
       "      <td>3.569231</td>\n",
       "      <td>62.530770</td>\n",
       "      <td>1.257692</td>\n",
       "      <td>0.000000</td>\n",
       "    </tr>\n",
       "    <tr>\n",
       "      <th>3</th>\n",
       "      <td>2017-01-04</td>\n",
       "      <td>5.296154</td>\n",
       "      <td>59.869231</td>\n",
       "      <td>1.038462</td>\n",
       "      <td>0.000000</td>\n",
       "    </tr>\n",
       "    <tr>\n",
       "      <th>4</th>\n",
       "      <td>2017-01-05</td>\n",
       "      <td>5.050000</td>\n",
       "      <td>55.300000</td>\n",
       "      <td>1.773077</td>\n",
       "      <td>0.000000</td>\n",
       "    </tr>\n",
       "  </tbody>\n",
       "</table>\n",
       "</div>"
      ],
      "text/plain": [
       "        Date  Temperature   Humidity      Wind  Precipitation\n",
       "0 2017-01-01     3.900000  75.926923  0.769231       0.000000\n",
       "1 2017-01-02     6.419231  76.288462  1.376923       0.057692\n",
       "2 2017-01-03     3.569231  62.530770  1.257692       0.000000\n",
       "3 2017-01-04     5.296154  59.869231  1.038462       0.000000\n",
       "4 2017-01-05     5.050000  55.300000  1.773077       0.000000"
      ]
     },
     "execution_count": 37,
     "metadata": {},
     "output_type": "execute_result"
    }
   ],
   "source": [
    "weather = weather.groupby(['Date'],as_index=False).mean()\n",
    "\n",
    "weather.head()\n"
   ]
  },
  {
   "cell_type": "code",
   "execution_count": 40,
   "metadata": {},
   "outputs": [
    {
     "data": {
      "text/html": [
       "<div>\n",
       "<style scoped>\n",
       "    .dataframe tbody tr th:only-of-type {\n",
       "        vertical-align: middle;\n",
       "    }\n",
       "\n",
       "    .dataframe tbody tr th {\n",
       "        vertical-align: top;\n",
       "    }\n",
       "\n",
       "    .dataframe thead th {\n",
       "        text-align: right;\n",
       "    }\n",
       "</style>\n",
       "<table border=\"1\" class=\"dataframe\">\n",
       "  <thead>\n",
       "    <tr style=\"text-align: right;\">\n",
       "      <th></th>\n",
       "      <th>Date</th>\n",
       "      <th>Line</th>\n",
       "      <th>Station_ID</th>\n",
       "      <th>Station_Name</th>\n",
       "      <th>Entries_N</th>\n",
       "      <th>Exits_N</th>\n",
       "      <th>Update_Date</th>\n",
       "      <th>year</th>\n",
       "      <th>month</th>\n",
       "      <th>day</th>\n",
       "      <th>fine_dust</th>\n",
       "      <th>ultrafine_dust</th>\n",
       "      <th>Temperature</th>\n",
       "      <th>Humidity</th>\n",
       "      <th>Wind</th>\n",
       "      <th>Precipitation</th>\n",
       "    </tr>\n",
       "  </thead>\n",
       "  <tbody>\n",
       "    <tr>\n",
       "      <th>0</th>\n",
       "      <td>2017-01-01</td>\n",
       "      <td>경의선</td>\n",
       "      <td>1271</td>\n",
       "      <td>능곡</td>\n",
       "      <td>1958</td>\n",
       "      <td>1864</td>\n",
       "      <td>20170104</td>\n",
       "      <td>2017</td>\n",
       "      <td>1</td>\n",
       "      <td>1</td>\n",
       "      <td>80.410256</td>\n",
       "      <td>60.09375</td>\n",
       "      <td>3.9</td>\n",
       "      <td>75.926923</td>\n",
       "      <td>0.769231</td>\n",
       "      <td>0.0</td>\n",
       "    </tr>\n",
       "    <tr>\n",
       "      <th>1</th>\n",
       "      <td>2017-01-01</td>\n",
       "      <td>경의선</td>\n",
       "      <td>1272</td>\n",
       "      <td>곡산</td>\n",
       "      <td>242</td>\n",
       "      <td>213</td>\n",
       "      <td>20170104</td>\n",
       "      <td>2017</td>\n",
       "      <td>1</td>\n",
       "      <td>1</td>\n",
       "      <td>80.410256</td>\n",
       "      <td>60.09375</td>\n",
       "      <td>3.9</td>\n",
       "      <td>75.926923</td>\n",
       "      <td>0.769231</td>\n",
       "      <td>0.0</td>\n",
       "    </tr>\n",
       "    <tr>\n",
       "      <th>2</th>\n",
       "      <td>2017-01-01</td>\n",
       "      <td>경의선</td>\n",
       "      <td>1273</td>\n",
       "      <td>백마</td>\n",
       "      <td>2665</td>\n",
       "      <td>2592</td>\n",
       "      <td>20170104</td>\n",
       "      <td>2017</td>\n",
       "      <td>1</td>\n",
       "      <td>1</td>\n",
       "      <td>80.410256</td>\n",
       "      <td>60.09375</td>\n",
       "      <td>3.9</td>\n",
       "      <td>75.926923</td>\n",
       "      <td>0.769231</td>\n",
       "      <td>0.0</td>\n",
       "    </tr>\n",
       "    <tr>\n",
       "      <th>3</th>\n",
       "      <td>2017-01-01</td>\n",
       "      <td>경의선</td>\n",
       "      <td>1274</td>\n",
       "      <td>풍산</td>\n",
       "      <td>2356</td>\n",
       "      <td>2314</td>\n",
       "      <td>20170104</td>\n",
       "      <td>2017</td>\n",
       "      <td>1</td>\n",
       "      <td>1</td>\n",
       "      <td>80.410256</td>\n",
       "      <td>60.09375</td>\n",
       "      <td>3.9</td>\n",
       "      <td>75.926923</td>\n",
       "      <td>0.769231</td>\n",
       "      <td>0.0</td>\n",
       "    </tr>\n",
       "    <tr>\n",
       "      <th>4</th>\n",
       "      <td>2017-01-01</td>\n",
       "      <td>경의선</td>\n",
       "      <td>1275</td>\n",
       "      <td>일산</td>\n",
       "      <td>4058</td>\n",
       "      <td>4000</td>\n",
       "      <td>20170104</td>\n",
       "      <td>2017</td>\n",
       "      <td>1</td>\n",
       "      <td>1</td>\n",
       "      <td>80.410256</td>\n",
       "      <td>60.09375</td>\n",
       "      <td>3.9</td>\n",
       "      <td>75.926923</td>\n",
       "      <td>0.769231</td>\n",
       "      <td>0.0</td>\n",
       "    </tr>\n",
       "  </tbody>\n",
       "</table>\n",
       "</div>"
      ],
      "text/plain": [
       "        Date Line  Station_ID Station_Name  Entries_N  Exits_N  Update_Date  \\\n",
       "0 2017-01-01  경의선        1271           능곡       1958     1864     20170104   \n",
       "1 2017-01-01  경의선        1272           곡산        242      213     20170104   \n",
       "2 2017-01-01  경의선        1273           백마       2665     2592     20170104   \n",
       "3 2017-01-01  경의선        1274           풍산       2356     2314     20170104   \n",
       "4 2017-01-01  경의선        1275           일산       4058     4000     20170104   \n",
       "\n",
       "   year  month  day  fine_dust  ultrafine_dust  Temperature   Humidity  \\\n",
       "0  2017      1    1  80.410256        60.09375          3.9  75.926923   \n",
       "1  2017      1    1  80.410256        60.09375          3.9  75.926923   \n",
       "2  2017      1    1  80.410256        60.09375          3.9  75.926923   \n",
       "3  2017      1    1  80.410256        60.09375          3.9  75.926923   \n",
       "4  2017      1    1  80.410256        60.09375          3.9  75.926923   \n",
       "\n",
       "       Wind  Precipitation  \n",
       "0  0.769231            0.0  \n",
       "1  0.769231            0.0  \n",
       "2  0.769231            0.0  \n",
       "3  0.769231            0.0  \n",
       "4  0.769231            0.0  "
      ]
     },
     "execution_count": 40,
     "metadata": {},
     "output_type": "execute_result"
    }
   ],
   "source": [
    "#미세먼지 컬럼 추가하기\n",
    "total_subway_weather = total_subway_dust.join(weather.set_index('Date'), on='Date')\n",
    "total_subway_weather.dtypes\n",
    "total_subway_weather.head()"
   ]
  },
  {
   "cell_type": "code",
   "execution_count": 43,
   "metadata": {},
   "outputs": [
    {
     "data": {
      "text/html": [
       "<div>\n",
       "<style scoped>\n",
       "    .dataframe tbody tr th:only-of-type {\n",
       "        vertical-align: middle;\n",
       "    }\n",
       "\n",
       "    .dataframe tbody tr th {\n",
       "        vertical-align: top;\n",
       "    }\n",
       "\n",
       "    .dataframe thead th {\n",
       "        text-align: right;\n",
       "    }\n",
       "</style>\n",
       "<table border=\"1\" class=\"dataframe\">\n",
       "  <thead>\n",
       "    <tr style=\"text-align: right;\">\n",
       "      <th></th>\n",
       "      <th>Date</th>\n",
       "      <th>Line</th>\n",
       "      <th>Station_ID</th>\n",
       "      <th>Station_Name</th>\n",
       "      <th>Entries_N</th>\n",
       "      <th>Exits_N</th>\n",
       "      <th>Update_Date</th>\n",
       "      <th>year</th>\n",
       "      <th>month</th>\n",
       "      <th>day</th>\n",
       "      <th>fine_dust</th>\n",
       "      <th>ultrafine_dust</th>\n",
       "      <th>Temperature</th>\n",
       "      <th>Humidity</th>\n",
       "      <th>Wind</th>\n",
       "      <th>Precipitation</th>\n",
       "      <th>dayofweek</th>\n",
       "    </tr>\n",
       "  </thead>\n",
       "  <tbody>\n",
       "    <tr>\n",
       "      <th>0</th>\n",
       "      <td>2017-01-01</td>\n",
       "      <td>경의선</td>\n",
       "      <td>1271</td>\n",
       "      <td>능곡</td>\n",
       "      <td>1958</td>\n",
       "      <td>1864</td>\n",
       "      <td>20170104</td>\n",
       "      <td>2017</td>\n",
       "      <td>1</td>\n",
       "      <td>1</td>\n",
       "      <td>80.410256</td>\n",
       "      <td>60.09375</td>\n",
       "      <td>3.9</td>\n",
       "      <td>75.926923</td>\n",
       "      <td>0.769231</td>\n",
       "      <td>0.0</td>\n",
       "      <td>6</td>\n",
       "    </tr>\n",
       "    <tr>\n",
       "      <th>1</th>\n",
       "      <td>2017-01-01</td>\n",
       "      <td>경의선</td>\n",
       "      <td>1272</td>\n",
       "      <td>곡산</td>\n",
       "      <td>242</td>\n",
       "      <td>213</td>\n",
       "      <td>20170104</td>\n",
       "      <td>2017</td>\n",
       "      <td>1</td>\n",
       "      <td>1</td>\n",
       "      <td>80.410256</td>\n",
       "      <td>60.09375</td>\n",
       "      <td>3.9</td>\n",
       "      <td>75.926923</td>\n",
       "      <td>0.769231</td>\n",
       "      <td>0.0</td>\n",
       "      <td>6</td>\n",
       "    </tr>\n",
       "    <tr>\n",
       "      <th>2</th>\n",
       "      <td>2017-01-01</td>\n",
       "      <td>경의선</td>\n",
       "      <td>1273</td>\n",
       "      <td>백마</td>\n",
       "      <td>2665</td>\n",
       "      <td>2592</td>\n",
       "      <td>20170104</td>\n",
       "      <td>2017</td>\n",
       "      <td>1</td>\n",
       "      <td>1</td>\n",
       "      <td>80.410256</td>\n",
       "      <td>60.09375</td>\n",
       "      <td>3.9</td>\n",
       "      <td>75.926923</td>\n",
       "      <td>0.769231</td>\n",
       "      <td>0.0</td>\n",
       "      <td>6</td>\n",
       "    </tr>\n",
       "    <tr>\n",
       "      <th>3</th>\n",
       "      <td>2017-01-01</td>\n",
       "      <td>경의선</td>\n",
       "      <td>1274</td>\n",
       "      <td>풍산</td>\n",
       "      <td>2356</td>\n",
       "      <td>2314</td>\n",
       "      <td>20170104</td>\n",
       "      <td>2017</td>\n",
       "      <td>1</td>\n",
       "      <td>1</td>\n",
       "      <td>80.410256</td>\n",
       "      <td>60.09375</td>\n",
       "      <td>3.9</td>\n",
       "      <td>75.926923</td>\n",
       "      <td>0.769231</td>\n",
       "      <td>0.0</td>\n",
       "      <td>6</td>\n",
       "    </tr>\n",
       "    <tr>\n",
       "      <th>4</th>\n",
       "      <td>2017-01-01</td>\n",
       "      <td>경의선</td>\n",
       "      <td>1275</td>\n",
       "      <td>일산</td>\n",
       "      <td>4058</td>\n",
       "      <td>4000</td>\n",
       "      <td>20170104</td>\n",
       "      <td>2017</td>\n",
       "      <td>1</td>\n",
       "      <td>1</td>\n",
       "      <td>80.410256</td>\n",
       "      <td>60.09375</td>\n",
       "      <td>3.9</td>\n",
       "      <td>75.926923</td>\n",
       "      <td>0.769231</td>\n",
       "      <td>0.0</td>\n",
       "      <td>6</td>\n",
       "    </tr>\n",
       "  </tbody>\n",
       "</table>\n",
       "</div>"
      ],
      "text/plain": [
       "        Date Line  Station_ID Station_Name  Entries_N  Exits_N  Update_Date  \\\n",
       "0 2017-01-01  경의선        1271           능곡       1958     1864     20170104   \n",
       "1 2017-01-01  경의선        1272           곡산        242      213     20170104   \n",
       "2 2017-01-01  경의선        1273           백마       2665     2592     20170104   \n",
       "3 2017-01-01  경의선        1274           풍산       2356     2314     20170104   \n",
       "4 2017-01-01  경의선        1275           일산       4058     4000     20170104   \n",
       "\n",
       "   year  month  day  fine_dust  ultrafine_dust  Temperature   Humidity  \\\n",
       "0  2017      1    1  80.410256        60.09375          3.9  75.926923   \n",
       "1  2017      1    1  80.410256        60.09375          3.9  75.926923   \n",
       "2  2017      1    1  80.410256        60.09375          3.9  75.926923   \n",
       "3  2017      1    1  80.410256        60.09375          3.9  75.926923   \n",
       "4  2017      1    1  80.410256        60.09375          3.9  75.926923   \n",
       "\n",
       "       Wind  Precipitation  dayofweek  \n",
       "0  0.769231            0.0          6  \n",
       "1  0.769231            0.0          6  \n",
       "2  0.769231            0.0          6  \n",
       "3  0.769231            0.0          6  \n",
       "4  0.769231            0.0          6  "
      ]
     },
     "execution_count": 43,
     "metadata": {},
     "output_type": "execute_result"
    }
   ],
   "source": [
    "#요일 코딩하기\n",
    "\n",
    "total_subway_weather[\"dayofweek\"] = total_subway_weather[\"Date\"].dt.dayofweek\n",
    "total_subway_weather.head()"
   ]
  },
  {
   "cell_type": "code",
   "execution_count": 44,
   "metadata": {},
   "outputs": [
    {
     "name": "stderr",
     "output_type": "stream",
     "text": [
      "C:\\Users\\choimh\\AppData\\Local\\Continuum\\anaconda3\\lib\\site-packages\\scipy\\stats\\stats.py:1713: FutureWarning: Using a non-tuple sequence for multidimensional indexing is deprecated; use `arr[tuple(seq)]` instead of `arr[seq]`. In the future this will be interpreted as an array index, `arr[np.array(seq)]`, which will result either in an error or a different result.\n",
      "  return np.add.reduce(sorted[indexer] * weights, axis=axis) / sumval\n"
     ]
    },
    {
     "data": {
      "text/plain": [
       "[Text(0.5,0,'dayofweek'), Text(0.5,1,'Entries per dayofweek')]"
      ]
     },
     "execution_count": 44,
     "metadata": {},
     "output_type": "execute_result"
    },
    {
     "data": {
      "image/png": "[encoded data removed]",
      "text/plain": [
       "<Figure size 1296x576 with 4 Axes>"
      ]
     },
     "metadata": {},
     "output_type": "display_data"
    }
   ],
   "source": [
    "figure, ((ax1,ax2,ax3,ax4)) = plt.subplots(nrows=1, ncols=4)\n",
    "figure.set_size_inches(18,8)\n",
    "\n",
    "sns.barplot(data=total_subway_weather, x=\"year\", y=\"Entries_N\", ax=ax1)\n",
    "sns.barplot(data=total_subway_weather, x=\"month\", y=\"Entries_N\", ax=ax2)\n",
    "sns.barplot(data=total_subway_weather, x=\"day\", y=\"Entries_N\", ax=ax3)\n",
    "sns.barplot(data=total_subway_weather, x=\"dayofweek\", y=\"Entries_N\", ax=ax4)\n",
    "\n",
    "\n",
    "ax1.set(ylabel='Entries_N',title=\"Entries per year\")\n",
    "ax2.set(xlabel='month',title=\"Entries per month\")\n",
    "ax3.set(xlabel='day',title=\"Entries per day\")\n",
    "ax4.set(xlabel='dayofweek',title=\"Entries per dayofweek\")"
   ]
  },
  {
   "cell_type": "code",
   "execution_count": 45,
   "metadata": {},
   "outputs": [
    {
     "data": {
      "text/plain": [
       "[Text(0,0.5,'Entries_N'),\n",
       " Text(0.5,0,'dayofweek'),\n",
       " Text(0.5,1,'Entries per dayofweek')]"
      ]
     },
     "execution_count": 45,
     "metadata": {},
     "output_type": "execute_result"
    },
    {
     "data": {
      "image/png": "[encoded data removed]",
      "text/plain": [
       "<Figure size 864x720 with 4 Axes>"
      ]
     },
     "metadata": {},
     "output_type": "display_data"
    }
   ],
   "source": [
    "fig, axes = plt.subplots(nrows=2, ncols=2)\n",
    "fig.set_size_inches(12,10)\n",
    "sns.boxplot(data=total_subway_weather,y=\"Entries_N\",orient=\"v\",ax=axes[0][0])\n",
    "sns.boxplot(data=total_subway_weather,y=\"Entries_N\",x=\"year\",orient=\"v\",ax=axes[0][1])\n",
    "sns.boxplot(data=total_subway_weather,y=\"Entries_N\",x=\"month\",orient=\"v\",ax=axes[1][0])\n",
    "sns.boxplot(data=total_subway_weather,y=\"Entries_N\",x=\"dayofweek\",orient=\"v\",ax=axes[1][1])\n",
    "\n",
    "axes[0][0].set(ylabel='Entries_N',title=\"Entries_N\")\n",
    "axes[0][1].set(xlabel='year',ylabel='Entries_N',title=\"Entries per year\")\n",
    "axes[1][0].set(xlabel='month',ylabel='Entries_N',title=\"Entries per month\")\n",
    "axes[1][1].set(xlabel='dayofweek',ylabel='Entries_N',title=\"Entries per dayofweek\")\n"
   ]
  },
  {
   "cell_type": "code",
   "execution_count": null,
   "metadata": {},
   "outputs": [],
   "source": []
  }
 ],
 "metadata": {
  "kernelspec": {
   "display_name": "Python 3",
   "language": "python",
   "name": "python3"
  },
  "language_info": {
   "codemirror_mode": {
    "name": "ipython",
    "version": 3
   },
   "file_extension": ".py",
   "mimetype": "text/x-python",
   "name": "python",
   "nbconvert_exporter": "python",
   "pygments_lexer": "ipython3",
   "version": "3.7.0"
  }
 },
 "nbformat": 4,
 "nbformat_minor": 2
}
